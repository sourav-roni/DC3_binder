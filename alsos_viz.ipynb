{
 "cells": [
  {
   "cell_type": "code",
   "execution_count": null,
   "metadata": {},
   "outputs": [],
   "source": [
    "# Uncomment this cell to install dependencies\n",
    "# !pip install plotly==4.14.1\n",
    "# !pip install python-igraph"
   ]
  },
  {
   "cell_type": "code",
   "execution_count": null,
   "metadata": {},
   "outputs": [],
   "source": [
    "import csv\n",
    "import ast\n",
    "import plotly\n",
    "import plotly.graph_objects as go\n",
    "from platform import python_version\n",
    "print(python_version())\n",
    "import random\n",
    "import igraph\n",
    "from igraph import Graph, EdgeSeq"
   ]
  },
  {
   "cell_type": "code",
   "execution_count": null,
   "metadata": {},
   "outputs": [],
   "source": [
    "plotly.__version__"
   ]
  },
  {
   "cell_type": "code",
   "execution_count": null,
   "metadata": {},
   "outputs": [],
   "source": [
    "igraph.__version__"
   ]
  },
  {
   "cell_type": "code",
   "execution_count": null,
   "metadata": {},
   "outputs": [],
   "source": [
    "# Change csv to load here\n",
    "with open(\"./data/Books.csv\",\"r\") as f:\n",
    "    file = csv.reader(f)\n",
    "    file_content = []\n",
    "    for row in file:\n",
    "        file_content.append(row)\n",
    "f.close()\n",
    "print(len(file_content))\n",
    "header = file_content[0]\n",
    "data = file_content[1:]\n",
    "print(\"all data: \", len(data))\n",
    "print(header)"
   ]
  },
  {
   "cell_type": "code",
   "execution_count": null,
   "metadata": {},
   "outputs": [],
   "source": [
    "def get_index(name):\n",
    "    for i in range(len(header)):\n",
    "        if header[i]==name:\n",
    "            return i\n",
    "    return -1"
   ]
  },
  {
   "cell_type": "code",
   "execution_count": null,
   "metadata": {},
   "outputs": [],
   "source": [
    "# One can change the foucs node Id here\n",
    "focus_node_id = 2\n",
    "focus_node_name = data[focus_node_id][get_index('name')]\n",
    "print(focus_node_name)"
   ]
  },
  {
   "cell_type": "code",
   "execution_count": null,
   "metadata": {},
   "outputs": [],
   "source": [
    "# Function to filter list of alsos, picks top 20 if more is available with greater than 2 common products\n",
    "def filter_alsos(all_alsos):\n",
    "    if len(all_alsos)<=10:\n",
    "        return all_alsos\n",
    "    else:\n",
    "        filtered = []\n",
    "        for i in all_alsos:\n",
    "            if i[1] >= 2:\n",
    "                filtered.append(i)\n",
    "            else:\n",
    "                break\n",
    "            if len(filtered) >= 20:\n",
    "                break\n",
    "        print(len(filtered))\n",
    "        return filtered"
   ]
  },
  {
   "cell_type": "code",
   "execution_count": null,
   "metadata": {},
   "outputs": [],
   "source": [
    "all_alsos = data[focus_node_id][get_index('also')]\n",
    "all_alsos = ast.literal_eval(all_alsos) \n",
    "filt_alsos = filter_alsos(all_alsos)\n",
    "filt_alsos"
   ]
  },
  {
   "cell_type": "code",
   "execution_count": null,
   "metadata": {},
   "outputs": [],
   "source": [
    "# Function to get path of nodes for plotting\n",
    "def get_path_nodes(nodeid):\n",
    "    if nodeid == 0:\n",
    "        return []\n",
    "    else:\n",
    "        prevs = []\n",
    "        current_parent = int(data[nodeid][get_index('parent')])\n",
    "        prevs.append(current_parent)\n",
    "        prevs.extend(get_path_nodes(current_parent))\n",
    "        return prevs"
   ]
  },
  {
   "cell_type": "code",
   "execution_count": null,
   "metadata": {},
   "outputs": [],
   "source": [
    "all_nodes = []\n",
    "all_paths = {}\n",
    "\n",
    "all_nodes.append(focus_node_id)\n",
    "all_paths[focus_node_id] = get_path_nodes(focus_node_id)\n",
    "\n",
    "for also in filt_alsos:\n",
    "    temp = get_path_nodes(also[0])\n",
    "    all_nodes.append(also[0])\n",
    "    all_nodes.extend(temp)\n",
    "    all_paths[also[0]] = temp\n",
    "    \n",
    "print(\"All nodes with duplicates: \", len(all_nodes))\n",
    "all_nodes = list(set(all_nodes))\n",
    "print(\"All unique nodes: \", len(all_nodes))"
   ]
  },
  {
   "cell_type": "code",
   "execution_count": null,
   "metadata": {},
   "outputs": [],
   "source": [
    "all_nodes"
   ]
  },
  {
   "cell_type": "code",
   "execution_count": null,
   "metadata": {},
   "outputs": [],
   "source": [
    "all_depth = []\n",
    "for node in all_nodes:\n",
    "    all_depth.append(len(get_path_nodes(node)))"
   ]
  },
  {
   "cell_type": "code",
   "execution_count": null,
   "metadata": {},
   "outputs": [],
   "source": [
    "def get_common_count(nodeid):\n",
    "    focus_node_also_list = data[focus_node_id][get_index('also')]\n",
    "    focus_node_also_list = ast.literal_eval(focus_node_also_list) \n",
    "    for anode in focus_node_also_list:\n",
    "        if anode[0] == nodeid:\n",
    "            return anode[1]\n",
    "    return 0"
   ]
  },
  {
   "cell_type": "code",
   "execution_count": null,
   "metadata": {},
   "outputs": [],
   "source": [
    "all_com_counts = []\n",
    "for node in all_nodes:\n",
    "    all_com_counts.append(get_common_count(node))"
   ]
  },
  {
   "cell_type": "code",
   "execution_count": null,
   "metadata": {},
   "outputs": [],
   "source": [
    "all_product_counts = []\n",
    "for node in all_nodes:\n",
    "    all_product_counts.append(int(data[node][get_index('productCount')]))"
   ]
  },
  {
   "cell_type": "code",
   "execution_count": null,
   "metadata": {},
   "outputs": [],
   "source": [
    "category_names = []\n",
    "for node in all_nodes:\n",
    "    category_names.append(data[node][get_index('name')])"
   ]
  },
  {
   "cell_type": "code",
   "execution_count": null,
   "metadata": {},
   "outputs": [],
   "source": [
    "all_paths"
   ]
  },
  {
   "cell_type": "code",
   "execution_count": null,
   "metadata": {},
   "outputs": [],
   "source": [
    "# sanity check\n",
    "for node in all_paths:\n",
    "    assert node in all_nodes\n",
    "    for i in all_paths[node]:\n",
    "        assert i in all_nodes"
   ]
  },
  {
   "cell_type": "code",
   "execution_count": null,
   "metadata": {},
   "outputs": [],
   "source": [
    "# Instantiate graph and add vertices\n",
    "g = Graph()\n",
    "g.add_vertices(len(all_nodes))\n",
    "print(g)"
   ]
  },
  {
   "cell_type": "code",
   "execution_count": null,
   "metadata": {},
   "outputs": [],
   "source": [
    "# Add vertices attributes\n",
    "g.vs[\"cat_id\"] = all_nodes\n",
    "g.vs[\"depth\"] = all_depth\n",
    "g.vs[\"count\"] = all_com_counts\n",
    "g.vs[\"nprod\"] = all_product_counts\n",
    "g.vs[\"cat_name\"] = category_names"
   ]
  },
  {
   "cell_type": "code",
   "execution_count": null,
   "metadata": {},
   "outputs": [],
   "source": [
    "# Add edges\n",
    "all_edges = []\n",
    "for node in all_paths:\n",
    "    seq = []\n",
    "    seq.append(node)\n",
    "    seq.extend(all_paths[node])\n",
    "    for i in range(len(seq)-1):\n",
    "        node1 = g.vs.find(cat_id=seq[i]).index\n",
    "        node2 = g.vs.find(cat_id=seq[i+1]).index\n",
    "        all_edges.append((node1, node2))\n",
    "#         print(\"Adding edge b/w \",(seq[i], seq[i+1]),\" with indices \",(node1, node2))"
   ]
  },
  {
   "cell_type": "code",
   "execution_count": null,
   "metadata": {},
   "outputs": [],
   "source": [
    "g.add_edges(all_edges)\n",
    "print(g)"
   ]
  },
  {
   "cell_type": "code",
   "execution_count": null,
   "metadata": {},
   "outputs": [],
   "source": [
    "# Find depth to compute layout\n",
    "focus_index = g.vs.find(cat_id=focus_node_id).index\n",
    "focus_depth = g.vs[focus_index][\"depth\"]\n",
    "max_depth = -1\n",
    "for v in g.vs:\n",
    "    if max_depth < v[\"depth\"]:\n",
    "        max_depth = v[\"depth\"]"
   ]
  },
  {
   "cell_type": "code",
   "execution_count": null,
   "metadata": {},
   "outputs": [],
   "source": [
    "# Here the layout is computed\n",
    "# counter update and initialization can be changed to spacing\n",
    "position = {}\n",
    "for d in range(max_depth+1):\n",
    "    cat_count = {}\n",
    "    for v in g.vs:\n",
    "        if v[\"depth\"]==d:\n",
    "            cat_count[v.index] = v[\"count\"]\n",
    "    cat_count = dict(sorted(cat_count.items(), key=lambda item: item[1], reverse=True))\n",
    "    print(cat_count)\n",
    "    # Dicts preserve insertion order in Python 3.7+\n",
    "    counter = 60000\n",
    "    for cat in cat_count:\n",
    "        if cat in position:\n",
    "            print(\"Some trouble\")\n",
    "        if g.vs[cat][\"cat_id\"]==focus_node_id:\n",
    "            print(\"Focus node positioned\")\n",
    "            position[cat] = [0,0]\n",
    "        else:\n",
    "            position[cat] = [counter*1.0 , (focus_depth - d)*70000]\n",
    "            counter +=40000"
   ]
  },
  {
   "cell_type": "code",
   "execution_count": null,
   "metadata": {},
   "outputs": [],
   "source": [
    "es = EdgeSeq(g) # sequence of edges\n",
    "E = [e.tuple for e in g.es] # list of edges\n",
    "\n",
    "L = len(position)\n",
    "Xn = [position[k][0] for k in range(L)]\n",
    "Yn = [position[k][1] for k in range(L)]\n",
    "Xe = []\n",
    "Ye = []\n",
    "for edge in E:\n",
    "    Xe+=[position[edge[0]][0],position[edge[1]][0], None]\n",
    "    Ye+=[position[edge[0]][1],position[edge[1]][1], None]"
   ]
  },
  {
   "cell_type": "code",
   "execution_count": null,
   "metadata": {},
   "outputs": [],
   "source": [
    "labels = all_nodes"
   ]
  },
  {
   "cell_type": "code",
   "execution_count": null,
   "metadata": {},
   "outputs": [],
   "source": [
    "# Here the size of nodes is decided\n",
    "all_sizes = []\n",
    "min_size = 10\n",
    "all_annots = []\n",
    "for v in g.vs:\n",
    "    all_annots.append(v[\"count\"])\n",
    "    all_sizes.append((v[\"count\"]/0.2)+min_size) # The divinding factor can be used to control size\n",
    "all_sizes[g.vs.find(cat_id=focus_node_id).index] = 1.2*(max(all_sizes))"
   ]
  },
  {
   "cell_type": "code",
   "execution_count": null,
   "metadata": {},
   "outputs": [],
   "source": [
    "# Function to make annotations\n",
    "def make_annotations(pos, also_count, font_size=10, font_color='rgb(250,250,250)'):\n",
    "    L=len(pos)\n",
    "    if len(also_count)!=L:\n",
    "        raise ValueError('The lists pos and text must have the same len')\n",
    "    annotations = []\n",
    "    for k in range(L):\n",
    "        if g.vs[k][\"cat_id\"] == focus_node_id:\n",
    "            annotations.append(\n",
    "                dict(\n",
    "                    text=\"Focus Node\", \n",
    "                    x=pos[k][0], y=pos[k][1],\n",
    "                    xref='x1', yref='y1',\n",
    "                    font=dict(color=font_color, size=font_size),\n",
    "                    showarrow=False)\n",
    "            )\n",
    "        else:\n",
    "            annotations.append(\n",
    "                dict(\n",
    "                    text=also_count[k], \n",
    "                    x=pos[k][0], y=pos[k][1],\n",
    "                    xref='x1', yref='y1',\n",
    "                    font=dict(color=font_color, size=font_size),\n",
    "                    showarrow=False)\n",
    "            )\n",
    "    return annotations"
   ]
  },
  {
   "cell_type": "code",
   "execution_count": null,
   "metadata": {},
   "outputs": [],
   "source": [
    "# Sanity Check\n",
    "i = 0\n",
    "for v in g.vs:\n",
    "    assert all_product_counts[i]==v[\"nprod\"]\n",
    "    assert category_names[i]==v[\"cat_name\"]\n",
    "    i +=1"
   ]
  },
  {
   "cell_type": "code",
   "execution_count": null,
   "metadata": {},
   "outputs": [],
   "source": [
    "# Compute percentage similarity\n",
    "all_sim_ratios = []\n",
    "for i in range(len(all_product_counts)):\n",
    "    if all_product_counts[i] == 0:\n",
    "        all_sim_ratios.append(0.0)\n",
    "    else:\n",
    "        all_sim_ratios.append((all_annots[i]/all_product_counts[i])*100)\n",
    "all_sim_ratios"
   ]
  },
  {
   "cell_type": "code",
   "execution_count": null,
   "metadata": {},
   "outputs": [],
   "source": [
    "temp = all_product_counts\n",
    "sorted(temp)"
   ]
  },
  {
   "cell_type": "code",
   "execution_count": null,
   "metadata": {},
   "outputs": [],
   "source": [
    "# Create list of colors, some will be picked\n",
    "number_of_colors = len(all_edges)\n",
    "edge_color = [\"#\"+''.join([random.choice('0123456789ABCDEF') for j in range(6)])\n",
    "             for i in range(number_of_colors)]\n",
    "print(edge_color)"
   ]
  },
  {
   "cell_type": "code",
   "execution_count": null,
   "metadata": {},
   "outputs": [],
   "source": [
    "# Create hover text \n",
    "maybe_text = []\n",
    "assert len(category_names) == len(all_product_counts)\n",
    "for i in range(len(category_names)):\n",
    "    value_on_hover = category_names[i] + \"<br>\" + str(all_product_counts[i])\n",
    "    maybe_text.append(value_on_hover)"
   ]
  },
  {
   "cell_type": "code",
   "execution_count": null,
   "metadata": {},
   "outputs": [],
   "source": [
    "all_sizes"
   ]
  },
  {
   "cell_type": "code",
   "execution_count": null,
   "metadata": {},
   "outputs": [],
   "source": [
    "# Add traces and create visualization\n",
    "color_counters = []\n",
    "for i in range(max_depth):\n",
    "    color_counters.append(0)\n",
    "\n",
    "fig = go.Figure()\n",
    "\n",
    "fig.add_trace(go.Scatter(x=Xn,\n",
    "                  y=Yn,\n",
    "                  mode='markers',\n",
    "                  name='Category',\n",
    "                  marker=dict(symbol='circle-dot',\n",
    "                                size=all_sizes,\n",
    "#                                 cmin = 0,\n",
    "#                                 cmax = 5000,\n",
    "                                color=all_sim_ratios,    #'#DB4551',\n",
    "                                colorbar=dict(\n",
    "                                    title=\"% common\"\n",
    "                                    ),\n",
    "                                colorscale=\"bluered_r\", #sequential colorscale\n",
    "                                line=dict(color='rgb(0,0,0)', width=0.3),\n",
    "                                opacity=1.0\n",
    "                                ),\n",
    "                  hovertemplate =\n",
    "                    '<b>%{text}</b><extra></extra>',\n",
    "                  text = maybe_text,\n",
    "                  showlegend=False,      \n",
    "                  ))\n",
    "\n",
    "# Add focus node seperately\n",
    "index_focus_node = g.vs.find(cat_id=focus_node_id).index\n",
    "fig.add_trace(go.Scatter(x=[Xn[index_focus_node]],\n",
    "                  y=[Yn[index_focus_node]],\n",
    "                  mode='markers',\n",
    "                  name='Category',\n",
    "                  marker=dict(symbol='circle-dot',\n",
    "                                size=[all_sizes[index_focus_node]],\n",
    "                                color='rgb(0,0,0)',    #'#DB4551',\n",
    "                                line=dict(color='rgb(0,0,0)', width=0.1),\n",
    "                                opacity=1.0\n",
    "                                ),\n",
    "                  hovertemplate =\n",
    "                    '<b>%{text}</b><extra></extra>',\n",
    "                  text = [maybe_text[index_focus_node]],\n",
    "                  showlegend=False,      \n",
    "                  ))\n",
    "\n",
    "\n",
    "for i in range(len(all_edges)):\n",
    "    node1 = all_edges[i][0]\n",
    "    node2 = all_edges[i][1]\n",
    "    d1 = g.vs[node1][\"depth\"]\n",
    "    d2 = g.vs[node2][\"depth\"]\n",
    "    edge_level = min(d1,d2)\n",
    "    fig.add_trace(go.Scatter(x=Xe[3*i:3*i+3],\n",
    "                   y=Ye[3*i:3*i+3],\n",
    "                   mode='lines',\n",
    "                   line=dict(color=edge_color[color_counters[edge_level]], width=0.7),\n",
    "                   hoverinfo='none',\n",
    "                   showlegend=False,\n",
    "                   ))\n",
    "    color_counters[edge_level] = color_counters[edge_level]+1"
   ]
  },
  {
   "cell_type": "code",
   "execution_count": null,
   "metadata": {},
   "outputs": [],
   "source": [
    "axis = dict(showline=False, \n",
    "            zeroline=False,\n",
    "            showgrid=False,\n",
    "            showticklabels=False,\n",
    "            )\n",
    "\n",
    "fig.update_layout(title= 'My Visualization',\n",
    "              annotations=make_annotations(position, all_annots),\n",
    "              xaxis=axis,\n",
    "              yaxis=axis,\n",
    "              hoverlabel_align='left'\n",
    "              )\n",
    "fig.show()"
   ]
  },
  {
   "cell_type": "code",
   "execution_count": null,
   "metadata": {},
   "outputs": [],
   "source": [
    "# Save to file, this is more clear\n",
    "fig.write_html(\"temp.html\")"
   ]
  },
  {
   "cell_type": "code",
   "execution_count": null,
   "metadata": {},
   "outputs": [],
   "source": [
    "print(g)"
   ]
  }
 ],
 "metadata": {
  "kernelspec": {
   "display_name": "Python 3",
   "language": "python",
   "name": "python3"
  },
  "language_info": {
   "codemirror_mode": {
    "name": "ipython",
    "version": 3
   },
   "file_extension": ".py",
   "mimetype": "text/x-python",
   "name": "python",
   "nbconvert_exporter": "python",
   "pygments_lexer": "ipython3",
   "version": "3.7.6"
  }
 },
 "nbformat": 4,
 "nbformat_minor": 2
}
